{
 "cells": [
  {
   "cell_type": "markdown",
   "metadata": {},
   "source": [
    "# Dzień pierwszy DWthon - Hack Outside the Box \n",
    "### Cel na dziś: wczytanie i wstępna analiza danych \n",
    "\n",
    "Witaj na DWthon - *hack outside the box* 🤝  Jeśli czujesz głód wiedzy i czujesz, że chcesz się rozwijać szybciej i bardziej efektywnie niż do tej pory, to jesteś we właściwym miejscu 🧠 Moją rolą jest pokazać Ci, jak krok po kroku można wydobyć wartość z danych i uczenia maszynowego. 👀    \n",
    "\n",
    "Pamiętaj, że DWthon trwa 5 dni i nie jest naszym celem zagłębianie się w szczegóły. Celem jest pokazanie Ci, jak postawić pierwsze kroki ku nowej dziedzinie albo nowemu sposobowi myślenia, jeśli zagadnienia techniczne nie są dla Ciebie już zagadką. Z mojego doświadczenia wynika, że czasem nawet osoby zaawansowane technicznie nie działają optymalnie i popadają w tak zwane \"czarne dziury\" (tak w DataWorkshop nazywamy zadania, które pochłaniają bardzo dużo czasu, energii i pieniędzy, a nie zwracają nic konkretnego ;)). W przypadku projektów Machine Learning czy Data Science (akurat w obu przypadkach jest pełno czarnych dziur) można bardzo łatwo popaść w nadmiar pracy i efektu nie będzie lub będzie na tyle nieznaczny, że po podsumowaniu godzin spędzonych nad projektem a dostarczoną wartością bilans będzie raczej powodował smutek. Tak nie musi być! Właśnie po to powstał DWthon, aby pokazać pewien sposób myślenia (!) i ścieżkę działania, która powoduje, że stosunkowo małym wysiłkiem można osiągnąć całkiem sporo. \n",
    "\n",
    "\n",
    "Często odwołuję się w swoich [webinarach](https://bit.ly/3eg9XXM), czy [podcastach](https://bit.ly/3bqocaA) **Biznes Myśli** do **zasady Pareto - 80/20**, która w dużym skrócie mówi o tym, że 80% czegoś (tu może wstawić prawie wszystko, co chcesz np. wartość, energia, straty itd) generowane jest przez 20% czegoś (np. wysiłku, klientów itd.) \n",
    "\n",
    "\n",
    "Zadań, których możesz zrobić jest mnóstwo. Szczególików, nad którymi możesz się skupiać (szczególnie w Machine Learning) jest mnóstwo. Czy warto zaczynać od szczególików i rzeźbienia detali miesiącami, jak można w pierwszej kolejności zerwać nisko wiszące owoce, a dopiero potem, jak to już daje nam konkretną wartość, skupić się na detalach, jeśli faktycznie 1% robi różnicę (zależy od kontekstu). \n",
    "\n",
    "\n",
    "😱 Może się zdziwisz, ale podobnie jest z Twoim rozwojem. Co ma większy sens przeczytanie kilku książek szczegółowo opisujących jakieś procesy, o których nie masz pojęcia na starcie, bo nigdy ich nie doświadczyłeś czy doświadczenie czegoś nawet, jeśli nie rozumie się wszystkiego, ale osiąga się już pewien wynik i zaczyna coraz lepiej rozumieć, jakie szczegóły warto w ogóle zgłębiać? Zastanów się ;) 👀\n",
    "\n",
    "\n",
    "Na koniec ostatnia bardzo ważna rzecz i zaczynamy. Mam prośbę 🙏 Nie porównuj się z innymi. Podczas DWthon każdy jest wygrany. Sam fakt, że tutaj jesteś już jest pewnym krokiem, który został przez Ciebie postawiony, teraz czas na kolejne. Pomyśl o tym, co umiesz w trakcie startu DWthon i każdego dnia zwracaj uwagę na nową rzecz, o której udało Ci się dowiedzieć, czy nową umiejętność, którą udało Ci się zdobyć. Mierz swoją deltę rozwoju, a nie innych :) \n",
    "\n",
    "Zaczynamy! \n",
    "\n",
    "Najpierw obejrzyj wideo poniżej, aby je zobaczyć postaw kursor w komórce poniżej i naciśnij `SHIFT` + `ENTER`\n",
    "\n"
   ]
  },
  {
   "cell_type": "markdown",
   "metadata": {},
   "source": [
    "### Uwaga! \n",
    "\n",
    "Jeśli napotkasz trudności podczas wykonywania zadań z tego notebooka, to koniecznie napisz w kanale [dwthon_day1](https://bit.ly/30sh4El)\n",
    "\n",
    "Pamiętaj, aby szczegółowo doprecyzować, z czym masz problem. Najlepiej wrzuć screen z kodem swoim lub błędem, który widzisz i napisz, którego zadania dotyczy :) "
   ]
  },
  {
   "cell_type": "code",
   "execution_count": 1,
   "metadata": {
    "scrolled": false
   },
   "outputs": [
    {
     "data": {
      "text/html": [
       "<iframe style=\"height:500px;width:100%\" src=\"https://www.youtube.com/embed/oZsGy41Jgs4\" frameborder=\"0\" allow=\"autoplay; encrypted-media\" allowfullscreen></iframe>\n"
      ],
      "text/plain": [
       "<IPython.core.display.HTML object>"
      ]
     },
     "metadata": {},
     "output_type": "display_data"
    }
   ],
   "source": [
    "%%html\n",
    "<iframe style=\"height:500px;width:100%\" src=\"https://www.youtube.com/embed/oZsGy41Jgs4\" frameborder=\"0\" allow=\"autoplay; encrypted-media\" allowfullscreen></iframe>"
   ]
  },
  {
   "cell_type": "markdown",
   "metadata": {},
   "source": [
    "### Krok po kroku \n",
    "\n",
    "Nagrałem dla Ciebie także materiał wideo \"krok po kroku\". W wideo poniżej znajduje się dokładnie to, co w tym notebooku tylko tłumaczę wszystko, aby ułatwić Ci pracę i zrozumienie zagadnień i zadań :) Obejrzyj, jeśli potrzebujesz takiego dodatkowego wsparcia. \n"
   ]
  },
  {
   "cell_type": "code",
   "execution_count": 2,
   "metadata": {},
   "outputs": [
    {
     "data": {
      "text/html": [
       "<iframe style=\"height:500px;width:100%\" src=\"https://www.youtube.com/embed/NMAYudBMe8Q\" frameborder=\"0\" allow=\"autoplay; encrypted-media\" allowfullscreen></iframe>\n"
      ],
      "text/plain": [
       "<IPython.core.display.HTML object>"
      ]
     },
     "metadata": {},
     "output_type": "display_data"
    }
   ],
   "source": [
    "%%html\n",
    "<iframe style=\"height:500px;width:100%\" src=\"https://www.youtube.com/embed/NMAYudBMe8Q\" frameborder=\"0\" allow=\"autoplay; encrypted-media\" allowfullscreen></iframe>"
   ]
  },
  {
   "cell_type": "markdown",
   "metadata": {},
   "source": [
    "## Biblioteki"
   ]
  },
  {
   "cell_type": "code",
   "execution_count": 4,
   "metadata": {},
   "outputs": [],
   "source": [
    "import pandas as pd"
   ]
  },
  {
   "cell_type": "markdown",
   "metadata": {},
   "source": [
    "## Wczytujemy dane\n",
    "\n",
    "Wystarczy jedna linijka kodu, aby wczytać prawie milion wierszy w sekundę 👍"
   ]
  },
  {
   "cell_type": "code",
   "execution_count": 5,
   "metadata": {},
   "outputs": [
    {
     "data": {
      "text/plain": [
       "(820906, 9)"
      ]
     },
     "execution_count": 5,
     "metadata": {},
     "output_type": "execute_result"
    }
   ],
   "source": [
    "df = pd.read_hdf(\"../input/data.h5\")\n",
    "\n",
    "df.shape"
   ]
  },
  {
   "cell_type": "markdown",
   "metadata": {},
   "source": [
    "Zbadajmy krok po kroku co tu się stało:\n",
    "- `pd` to jest skrót, aby odwołać się do biblioteki `pandas` (można powiedzieć \"ksywka\")\n",
    "- `pd.read_hdf` wczytuje nasz zbiór danych w formacie hdf/h5 (to jest specjalny format danych, którego dość często używamy, pomińmy teraz szczegóły i wyjaśnienia, dlaczego właśnie taki forma)\n",
    "- wyniki przypisujemy do zmiennej `df`\n",
    "\n",
    "#### Czym jest wynik?\n",
    "\n",
    "Wynikiem jest `DataFrame`. Tak w `pandas` nazywa się tablica. Jak każda dobra tablica, `DataFrame` ma wiersze oraz kolumny.\n",
    "\n",
    "\n",
    "`df.shape` - zwraca nam \"kształt\", czyli ile jest wierszy i kolumn w naszej (wczytanej) tablicy. W tym przypadku mamy `(820906, 9)`, czyli **820 906** wierszy oraz **9** kolumn.\n",
    "\n",
    "## Szybki przegląd\n",
    "\n",
    "Dwie najważniejsze funkcje na początek to:\n",
    "- `pd.head()` - zwraca nam pierwsze wiersze. Domyślnie zwraca 5 pierwszych wierszy.\n",
    "- `pd.sample()` - zwraca losowe wiersze, domyślnie jeden (`pd.sample(10)` zwróci 10 losowych wierszy)\n",
    "\n",
    "Obie funkcje są przydatne, chociaż warto przyznać, że patrzenie na losowe wiersze (uruchamiając komórkę np. 5-10 razy) może wnieść znacznie więcej wartości dodanej.\n",
    "\n",
    "Spróbuj uruchomić komórkę 10 razy. Spędź 1-2 minutę na to, aby zapoznać się, jakie wartości występują w poszczególnych kolumnach.\n",
    "\n",
    "\n",
    "\n",
    "### 💡 Podpowiedź \n",
    "Zwykle uruchamiamy komórkę `SHIFT` + `ENTER`. Wynikiem jest uruchomienie komórki i \"przeskoczenie\" do kolejnych. Czasem chcemy po prostu uruchomić i zostać w tym samym miejscu. To wtedy możemy użyć `CTRL` + `ENTER`. Spróbuj :) "
   ]
  },
  {
   "cell_type": "code",
   "execution_count": 6,
   "metadata": {},
   "outputs": [
    {
     "data": {
      "text/html": [
       "<div>\n",
       "<style scoped>\n",
       "    .dataframe tbody tr th:only-of-type {\n",
       "        vertical-align: middle;\n",
       "    }\n",
       "\n",
       "    .dataframe tbody tr th {\n",
       "        vertical-align: top;\n",
       "    }\n",
       "\n",
       "    .dataframe thead th {\n",
       "        text-align: right;\n",
       "    }\n",
       "</style>\n",
       "<table border=\"1\" class=\"dataframe\">\n",
       "  <thead>\n",
       "    <tr style=\"text-align: right;\">\n",
       "      <th></th>\n",
       "      <th>order_id</th>\n",
       "      <th>customer_id</th>\n",
       "      <th>product_id</th>\n",
       "      <th>quantity</th>\n",
       "      <th>price_unit</th>\n",
       "      <th>price_total</th>\n",
       "      <th>country_id</th>\n",
       "      <th>order_date</th>\n",
       "      <th>is_canceled</th>\n",
       "    </tr>\n",
       "  </thead>\n",
       "  <tbody>\n",
       "    <tr>\n",
       "      <th>33548</th>\n",
       "      <td>2421</td>\n",
       "      <td>1074</td>\n",
       "      <td>64</td>\n",
       "      <td>2</td>\n",
       "      <td>254</td>\n",
       "      <td>508</td>\n",
       "      <td>0</td>\n",
       "      <td>2011-01-11 12:55:00</td>\n",
       "      <td>False</td>\n",
       "    </tr>\n",
       "    <tr>\n",
       "      <th>780505</th>\n",
       "      <td>50771</td>\n",
       "      <td>921</td>\n",
       "      <td>689</td>\n",
       "      <td>12</td>\n",
       "      <td>125</td>\n",
       "      <td>1500</td>\n",
       "      <td>0</td>\n",
       "      <td>2010-11-18 14:07:00</td>\n",
       "      <td>False</td>\n",
       "    </tr>\n",
       "    <tr>\n",
       "      <th>417066</th>\n",
       "      <td>26023</td>\n",
       "      <td>1433</td>\n",
       "      <td>16</td>\n",
       "      <td>2</td>\n",
       "      <td>595</td>\n",
       "      <td>1190</td>\n",
       "      <td>0</td>\n",
       "      <td>2009-12-07 13:00:00</td>\n",
       "      <td>False</td>\n",
       "    </tr>\n",
       "    <tr>\n",
       "      <th>516777</th>\n",
       "      <td>33398</td>\n",
       "      <td>1284</td>\n",
       "      <td>1856</td>\n",
       "      <td>2</td>\n",
       "      <td>3995</td>\n",
       "      <td>7990</td>\n",
       "      <td>0</td>\n",
       "      <td>2010-04-01 14:52:00</td>\n",
       "      <td>False</td>\n",
       "    </tr>\n",
       "    <tr>\n",
       "      <th>448684</th>\n",
       "      <td>28418</td>\n",
       "      <td>577</td>\n",
       "      <td>262</td>\n",
       "      <td>21</td>\n",
       "      <td>125</td>\n",
       "      <td>2625</td>\n",
       "      <td>0</td>\n",
       "      <td>2010-01-20 14:04:00</td>\n",
       "      <td>False</td>\n",
       "    </tr>\n",
       "    <tr>\n",
       "      <th>418227</th>\n",
       "      <td>26101</td>\n",
       "      <td>391</td>\n",
       "      <td>66</td>\n",
       "      <td>24</td>\n",
       "      <td>55</td>\n",
       "      <td>1320</td>\n",
       "      <td>0</td>\n",
       "      <td>2009-12-08 09:35:00</td>\n",
       "      <td>False</td>\n",
       "    </tr>\n",
       "    <tr>\n",
       "      <th>421614</th>\n",
       "      <td>26377</td>\n",
       "      <td>311</td>\n",
       "      <td>1671</td>\n",
       "      <td>6</td>\n",
       "      <td>295</td>\n",
       "      <td>1770</td>\n",
       "      <td>0</td>\n",
       "      <td>2009-12-10 09:44:00</td>\n",
       "      <td>False</td>\n",
       "    </tr>\n",
       "    <tr>\n",
       "      <th>168791</th>\n",
       "      <td>12006</td>\n",
       "      <td>2719</td>\n",
       "      <td>2744</td>\n",
       "      <td>4</td>\n",
       "      <td>415</td>\n",
       "      <td>1660</td>\n",
       "      <td>0</td>\n",
       "      <td>2011-06-22 10:28:00</td>\n",
       "      <td>False</td>\n",
       "    </tr>\n",
       "    <tr>\n",
       "      <th>554366</th>\n",
       "      <td>36080</td>\n",
       "      <td>5162</td>\n",
       "      <td>1571</td>\n",
       "      <td>60</td>\n",
       "      <td>21</td>\n",
       "      <td>1260</td>\n",
       "      <td>0</td>\n",
       "      <td>2010-05-12 12:32:00</td>\n",
       "      <td>False</td>\n",
       "    </tr>\n",
       "    <tr>\n",
       "      <th>584524</th>\n",
       "      <td>38363</td>\n",
       "      <td>4506</td>\n",
       "      <td>97</td>\n",
       "      <td>9</td>\n",
       "      <td>425</td>\n",
       "      <td>3825</td>\n",
       "      <td>0</td>\n",
       "      <td>2010-06-10 16:25:00</td>\n",
       "      <td>True</td>\n",
       "    </tr>\n",
       "  </tbody>\n",
       "</table>\n",
       "</div>"
      ],
      "text/plain": [
       "        order_id  customer_id  product_id  quantity  price_unit  price_total  \\\n",
       "33548       2421         1074          64         2         254          508   \n",
       "780505     50771          921         689        12         125         1500   \n",
       "417066     26023         1433          16         2         595         1190   \n",
       "516777     33398         1284        1856         2        3995         7990   \n",
       "448684     28418          577         262        21         125         2625   \n",
       "418227     26101          391          66        24          55         1320   \n",
       "421614     26377          311        1671         6         295         1770   \n",
       "168791     12006         2719        2744         4         415         1660   \n",
       "554366     36080         5162        1571        60          21         1260   \n",
       "584524     38363         4506          97         9         425         3825   \n",
       "\n",
       "        country_id          order_date  is_canceled  \n",
       "33548            0 2011-01-11 12:55:00        False  \n",
       "780505           0 2010-11-18 14:07:00        False  \n",
       "417066           0 2009-12-07 13:00:00        False  \n",
       "516777           0 2010-04-01 14:52:00        False  \n",
       "448684           0 2010-01-20 14:04:00        False  \n",
       "418227           0 2009-12-08 09:35:00        False  \n",
       "421614           0 2009-12-10 09:44:00        False  \n",
       "168791           0 2011-06-22 10:28:00        False  \n",
       "554366           0 2010-05-12 12:32:00        False  \n",
       "584524           0 2010-06-10 16:25:00         True  "
      ]
     },
     "execution_count": 6,
     "metadata": {},
     "output_type": "execute_result"
    }
   ],
   "source": [
    "df.sample(10)"
   ]
  },
  {
   "cell_type": "markdown",
   "metadata": {},
   "source": [
    "😯 Może zdziwić Cię ta kolejność, że najpierw patrzymy na dane i dopiero w drugim kroku próbujemy zinterpretować nazwy kolumn.\n",
    "\n",
    "Różnie to w życiu bywa, ale z mojego doświadczenia wynika, że popatrzeć 👀 chwilę dłużej na dane opłaca się bardzo! Nawet kilka minut rozważania i patrzenia na dane czasem może zaoszczędzić dni, tygodnie czy nawet miesiące. Często nie zdajemy sobie sprawy, jak bardzo ludzie, którzy pracują na co dzień z pewnymi danymi są zabiegani i nie mają czasu sprawdzić, jak to jest naprawdę, co mówią fakty. Wynikiem tego jest \"rozjazd\" pomiędzy teorią a stanem faktycznym.\n",
    "\n",
    "## Sklep\n",
    "\n",
    "\n",
    "Jak działa każdy sklep?\n",
    "\n",
    "Są klienci (`customer_id`), którzy kupują produkty (`product_id`) za cenę (`price_unit`) w ilości (`quantity`) i to wszystko łączy się w zamówienie (`order_id`). Dodatkowo mamy czas, kiedy zakup się odbył `order_date`.\n",
    "\n",
    "#### Przykład.\n",
    "Liczba/nazwy są losowe. Używam tego przykładu, aby pobudzić Twoją wyobraźnię.\n",
    "\n",
    "\n",
    "Zośka (`customer_id=1`) składa zamówienie (`order_id`) 8 marca o 10:00:00 (`order_date=08-03-2021 10:00:00`), które składa się z następujących produktów:\n",
    "- **chleb** (`product_id=1`) jedna sztuka (`quantity=1`) za 3 zł (`price_unit=300`)\n",
    "- **pomidory** (`product_id=2`) 5 sztuk (`quantity=5`) za 2,55 zł/szt (`price_unit=255`) razem **2,55 * 5 = 12,75 zł** (`price_total=1275`)\n",
    "  \n",
    "  \n",
    "Jako konsument masz prawo do zwrotu. Jeśli zwracasz (w tych danych zwraca się całe zamówienie, nie pojedynczy produkt, tak po prostu jest, nie myśl dlaczego). W takiej sytuacji będzie: `is_canceled=True`. W tym przypadku mówimy, że zamówienie zostało anulowane.\n",
    "\n",
    "\n",
    "### ☝️ Zwróć uwagę, że `price` trzymamy w groszach.  \n",
    "*Z bardzo prostego powodu, aby nie mieć kłopotów z zaokrąglaniem. Schodzimy na \"fizyczny poziom\" naszego świata. Najmniejszą jednostką pieniądza jest \"grosz\" (cent itd). Dlatego użyjmy tego myślenia też tutaj i zaoszczędzimy sobie sporo nerwów (trochę więcej kontekstu możesz znaleźć np. [tutaj](https://bit.ly/2PI9oMt). Nasze podejście jest 80/20 (80% wartości staramy się wygenerować przy 20% wysiłku), pamiętasz? Dlatego użyjmy bardzo prostego mechanizm, bez komplikowania sobie życia.*\n",
    "\n",
    "\n",
    "## Od czego zacząć analizę?\n",
    "\n",
    "Jeśli pracujesz z projektem biznesowym to, co chcesz znaleźć jak najszybciej? Odpowiedź niemal zawsze jest ta sama niezależnie od kultury i czasu - \"pieniądze\". To jest bardzo prosta reguła, przy pomocy której można dostarczać dużo wartości dodanej firmom i zarabiać jako Data Scientist nawet **23 000 zł** lub więcej miesięcznie w Polsce (o tym więcej mówiłem w tym [filmiku](https://www.youtube.com/watch?v=hxewhurwW3E&t)).\n",
    "\n",
    "Umiejętność dostarczania wartości \"biznesowi\" jest fajna też z innego względu. Dzięki temu pracodawca szuka Ciebie, a nie Ty biegasz za pracodawcą. Możesz myśleć, że żartuję, ale jednak mówię prawdę 😉. Zorganizuj swoje życie w taki sposób, żeby to firmy Ciebie potrzebowały (a nie odwrotnie). Postaram się Ci w tym pomóc, a przynajmniej przekażę, jak to działa u mnie 🤝. To zacznijmy już analizę ;)\n",
    "\n",
    "## Przychody\n",
    "Policzmy na początek, ile pieniędzy zarobił sklep. Dlaczego to jest ważne? Bo jeśli sklep generuje np. 100 zł, to nawet jak wymyślimy bardzo genialny system usprawnienia, to co z tego?  \n",
    "\n",
    "W inną stronę, jeśli sklep generuje 10 milionów lub więcej, to wtedy naprawa o jeden procent to już jest dużo (100 tys, prawda?). Jeśli takich poprawek zrobisz 10 w ciągu roku, to wtedy Twoja pensja ~300k już nie brzmi jak coś magicznego. Widać przyczynę i skutek.\n",
    "\n",
    "Trzymajmy się mocno reguły 80/20. Chcemy skupić się na robieniu takich rzeczy, które faktycznie mają znaczący wpływ. Kierując naszą energię życiową we właściwe miejsce, osiągamy znacznie więcej."
   ]
  },
  {
   "cell_type": "code",
   "execution_count": 7,
   "metadata": {},
   "outputs": [
    {
     "data": {
      "text/plain": [
       "1816145630"
      ]
     },
     "execution_count": 7,
     "metadata": {},
     "output_type": "execute_result"
    }
   ],
   "source": [
    "df[\"price_total\"].sum()"
   ]
  },
  {
   "cell_type": "markdown",
   "metadata": {},
   "source": [
    "`price_total` to jest kombinacja `price_unit` * `quantity` dla danego produktu.\n",
    "Innymi słowy, znajdując sumę (funkcja `.sum()`) dla `price_total` dostajemy informację o przychodach tego sklepu. ☝️ Przypomnę, że `price_total` (oraz `price_unit`) trzymamy w \"groszach\". Właściwie narzućmy od razu kontekst. Sklep znajduje się w Wielkiej Brytanii i tam jest funt szterling £. Jeden funt dzieli się na 100 pensów. Innymi słowy `price` trzymamy w `pensach`.\n",
    "\n",
    "#### Dobra, to ile tam wyszło?\n",
    "\n",
    "Jeśli przyjrzysz się, to zobaczysz, że... **18 161 456.30**, czyli 18+ mln funtów 🧐. Brzmi że mamy, co optymalizować, to bardzo dobrze!\n",
    "\n",
    "\n",
    "Sprawdźmy teraz, ile pieniędzy nam uciekło (zwroty). W tym przypadku mamy zostawić tylko takie wiersze, które mają `is_canceled = True` i następnie obliczyć sumę."
   ]
  },
  {
   "cell_type": "code",
   "execution_count": null,
   "metadata": {},
   "outputs": [],
   "source": [
    "df[ True == df.is_canceled  ][\"price_total\"].sum()"
   ]
  },
  {
   "cell_type": "code",
   "execution_count": 10,
   "metadata": {},
   "outputs": [
    {
     "data": {
      "text/plain": [
       "152        465\n",
       "233       1980\n",
       "234        672\n",
       "235        672\n",
       "236        672\n",
       "          ... \n",
       "820531     165\n",
       "820532     420\n",
       "820533     295\n",
       "820534    1275\n",
       "820727     195\n",
       "Name: price_total, Length: 17943, dtype: int32"
      ]
     },
     "execution_count": 10,
     "metadata": {},
     "output_type": "execute_result"
    }
   ],
   "source": [
    "df[ True == df.is_canceled  ]['price_total']"
   ]
  },
  {
   "cell_type": "markdown",
   "metadata": {},
   "source": [
    "Wychodzi na to, że **719 739.73** funtów trzeba było zwrócić. Duuuuuuużo!  \n",
    "To co już warto zapamiętać to to, że z tym można popracować i np. lepiej zrozumieć, które produkty są zwracane lub którzy klienci zwykle zwracają lub jeszcze inne rzeczy!\n",
    "\n",
    "\n",
    "Zbadajmy jeszcze kilka spraw. Ważne parametry:\n",
    "- ile mamy klientów?\n",
    "- ile mamy produktów?\n",
    "\n",
    "\n",
    "W pandas mamy funkcję `nunique()` (☝️ zwróć uwagę na początku na `n`), to zwraca unikalną liczbę wartości. Zobaczmy to w działaniu."
   ]
  },
  {
   "cell_type": "code",
   "execution_count": 11,
   "metadata": {},
   "outputs": [
    {
     "data": {
      "text/plain": [
       "5879"
      ]
     },
     "execution_count": 11,
     "metadata": {},
     "output_type": "execute_result"
    }
   ],
   "source": [
    "df[\"customer_id\"].nunique()"
   ]
  },
  {
   "cell_type": "markdown",
   "metadata": {},
   "source": [
    "Zwróciło nam 5879, to oznacza, że w kolumnie `customer_id` jest tyle unikalnych wartości. Każda wartość jest przypisywana do konkretnej osoby. Dlatego unikalna liczba wartości odpowiada na pytanie, ile mam klientów."
   ]
  },
  {
   "cell_type": "markdown",
   "metadata": {},
   "source": [
    "## Zadanie 1.1\n",
    "\n",
    "Już wiesz, jak znaleźć liczbę klientów, teraz trzeba zrobić to samo dla produktów. Chcemy odpowiedzieć na pytanie, ile produktów mamy w sklepie?\n",
    "\n",
    "\n",
    "### 💡 Podpowiedzi\n",
    "1. Zamiast zawartości `## YOUR CODE HERE` wpisz kod\n",
    "2. Pewnie chcesz użyć `product_id`.\n",
    "3. Zainspiruj się komórką wyżej, gdzie znaleźliśmy liczbę unikalnych `customer_id`."
   ]
  },
  {
   "cell_type": "code",
   "execution_count": 14,
   "metadata": {},
   "outputs": [
    {
     "data": {
      "text/plain": [
       "3878"
      ]
     },
     "execution_count": 14,
     "metadata": {},
     "output_type": "execute_result"
    }
   ],
   "source": [
    "df['product_id'].nunique()"
   ]
  },
  {
   "cell_type": "markdown",
   "metadata": {},
   "source": [
    "## Zadanie 1.2\n",
    "Skoro już wiemy, ile mamy produktów, to sprawdźmy jeszcze, ile ma zamówień.\n",
    "\n",
    "💡 Podpowiedzi\n",
    "1. Zamiast zawartości ## YOUR CODE HERE wpisz kod\n",
    "2. Pewnie chcesz użyć `order_id`."
   ]
  },
  {
   "cell_type": "code",
   "execution_count": 19,
   "metadata": {},
   "outputs": [
    {
     "data": {
      "text/plain": [
       "43908"
      ]
     },
     "execution_count": 19,
     "metadata": {},
     "output_type": "execute_result"
    }
   ],
   "source": [
    "df.order_id.nunique()"
   ]
  },
  {
   "cell_type": "markdown",
   "metadata": {},
   "source": [
    "To już tyle jako plan minimum. Jak wykonasz zadanie, należy zrobić:\n",
    "1. Zrzut ekranu na którym widać rozwiązania, wtedy dostaniesz bonus  :)  \n",
    "2. Wrzucić rozwiązanie na slacku do pokoju [dwthon_day1_done](https://bit.ly/3brCUyp)\n",
    "3. Dostać bonus za dobrą robotę 💪 i jutro będzie kolejna porcja.\n",
    "\n",
    "Uwaga! Jeśli masz problem z jakimś zadaniem, czegoś nie wiesz, to pamiętaj, że możesz zadawać pytania! Na tym polega nauka :) Pytania związane z 1 dniem DWthon zadawaj w kanale [dwthon_day1](https://bit.ly/30sh4El)."
   ]
  },
  {
   "cell_type": "markdown",
   "metadata": {},
   "source": [
    "## Dodatkowe zadania\n",
    "\n",
    "Nie musisz ich wykonywać, ale jak czujesz \"głód\" i chcesz więcej, to wtedy działaj śmiało 👍.\n",
    "\n",
    "\n",
    "### 🧠 Włączmy myślenie krytycznie. \n",
    "Ta umiejętność jest bardzo potrzebna przy analizowniu danych (i ogólnie przydaje się w życiu).\n",
    "\n",
    "Powyżej było zadanie, ile jest produktów w sklepie, prawda? Ale czy jesteśmy w stanie odpowiedzieć na to pytanie? Pomyśl...\n",
    "\n",
    "\n",
    "Tak naprawdę, nie! Bo nie wiemy, ile jest produktów w sklepie. To co wiemy, jakie produkty sprzedały się co najmniej raz! To jest ogromna różnica, bo może być jeszcze tysiąc innych produktów (których nie ma w naszych danych/zamówieniach), które generują koszty, ale nie sprzedają się w ogóle. Dlatego bardzo uważnie rozważaj, jakie masz dane ;). \n",
    "\n",
    "\n",
    "Policzmy teraz \"średni rachunek\". Wiemy, jakie są przychody. Też wiemy, ile było zamówień, prawda? To podzielmy jedno przez drugie."
   ]
  },
  {
   "cell_type": "code",
   "execution_count": null,
   "metadata": {},
   "outputs": [],
   "source": [
    "df[\"price_total\"].sum() / df[\"order_id\"].nunique()"
   ]
  },
  {
   "cell_type": "markdown",
   "metadata": {},
   "source": [
    "W tak łatwy sposób dowiedzieliśmy się, że średni rachunek wynosi **413.63** funta. Dość dużo, prawda?\n",
    "\n",
    "Podpowiem Ci, że w tym przypadku chodzi o sklep z prezentami. Jak kupujesz prezenty dla swojej rodziny czy znajomych  (np. na Święta), to jest szansa, że wydaje się podobne pieniądze ;)"
   ]
  },
  {
   "cell_type": "markdown",
   "metadata": {},
   "source": [
    "## 😇 Włączmy myślenie kreatywne\n",
    "\n",
    "Jakie jeszcze 5-10 metryk warto byłoby sprawdzić? Pomyśl na spokojnie, na pewno wymyślisz, daj sobie chwilę czasu. Po prostu masz zrobić dla siebie przestrzeń, porozważać, być może pójść na krótki spacerek, może szybki zimny prysznic 🚿, medytacja lub coś innego, co pobudza Cię do kreatywnego myślenia. "
   ]
  },
  {
   "cell_type": "code",
   "execution_count": null,
   "metadata": {},
   "outputs": [],
   "source": []
  },
  {
   "cell_type": "markdown",
   "metadata": {},
   "source": [
    "## 🤝🗣️ Pomyśl o kooperacji i komunikacji\n",
    "\n",
    "Podziel się pomysłami, co już udało się Ci wymyślić w poprzednim kroku i podziel się tym na slacku [dwthon_day1_ideas](https://bit.ly/3c9ocLB). Zaangażuj się w dyskusję i zobacz, jak w prosty sposób wytwarza się dużo pomysłów przy współpracy z innymi."
   ]
  },
  {
   "cell_type": "code",
   "execution_count": null,
   "metadata": {},
   "outputs": [],
   "source": []
  },
  {
   "cell_type": "markdown",
   "metadata": {},
   "source": [
    "## Twój Feedback i delta rozwoju \n",
    "\n",
    "Daj mi znać koniecznie, co sprawiło Ci przyjemność, co trudność oraz czego udało się nauczyć w tej krótkiej [ankiecie](https://bit.ly/3pQVBBP). Pozwoli mi ona ulepszyć zadania, a Tobie lepiej trakować swój rozwój: win-win 😇 "
   ]
  },
  {
   "cell_type": "markdown",
   "metadata": {},
   "source": [
    "## Widzimy się jutro!  🙌"
   ]
  },
  {
   "cell_type": "markdown",
   "metadata": {},
   "source": [
    "## 🕵️‍♀️ 3 fakty o DataWorkshop dla głodnych wiedzy 😎\n",
    "\n",
    "\n",
    "#### 1. 💪 Jesteśmy praktykami \n",
    "\n",
    "Uczymy Cię na podstawie naszego codziennego doświadczenia <3, a nie teorii wyczytanej w książkach. \n",
    "Podstawą naszych działań jest Data Science & Machine Learning - pomagamy firmom na różnym poziomie wdrażać skuteczne modele Machine Learning. A więc uczysz się tego, co działa w praktyce i od praktyków :) Jeśli zależy Ci na zdobywaniu konkretnych umiejętności cenionych na ryku, to jesteś we właściwym miejscu. \n",
    "\n",
    "> [Tutaj](https://bit.ly/3wBzPG2)  możesz posłuchać lub poczytać o jednym z naszych projektów. \n",
    "\n",
    "Masz pytania na temat współpracy? \n",
    "\n",
    "👉 Pisz śmiało na adres: ula@dataworkshop.eu lub hello@dataworkshop.eu \n",
    "\n",
    "\n",
    "#### 2. 🤝 Pomagamy zostać specjalistą / specjalistką  \n",
    "\n",
    "Jeśli chcesz związać się zawodowo z Data Science i/lub Machine Learning, to koniecznie poczytaj o naszych kompleksowym programie nauki, który pomógł już niejednej osobie zmienić pracę, być lepszym w swojej pracy, wzbogacić kompetencje niezależnie od zajmowanego stanowiska. \n",
    "\n",
    "> [**Data Science & Machine Learning w praktyce**](\n",
    "https://bit.ly/3PWyiB6) -  to najlepszy kurs, który pomoże Ci postawić pierwsze kroki lub pomóc Ci wskoczyć na kolejny poziom umiejętności branżowych. 100% praktyki, uczysz się tego, co najważniejsze i czego nie znajdziesz w książkach. \n",
    "\n",
    "Masz pytania na temat kursu? \n",
    "\n",
    "👉 Pisz śmiało na adres: ela@dataworkshop.eu lub hello@dataworkshop.eu \n",
    "\n",
    "\n",
    "#### 3. 🤝 Pomagamy stawiać pierwsze kroki \n",
    "\n",
    "\n",
    "Wiemy, że czasem Python wydaje się być przeszkodą w nauce ML... Cóż dobra wiadomość jest taka, że nie jest to przeszkoda nie do pokonania i w tym też możemy Ci pomóc. \n",
    "\n",
    "Kursów i materiałów z Python jest mnóstwo, ale czy warto uczyć się wszystkiego? \n",
    "\n",
    "Może nie wystarczyć czasu, a możesz nauczyć się tego, co nie jest aż tak istotne jeśli chodzi o tematykę Data Science & ML. \n",
    "\n",
    "Wypełniliśmy tę lukę i Vladimir stworzył kurs \n",
    "\n",
    "> [**Analiza danych w Python**](https://bit.ly/3Tl6M3l) - to materiał, dzięki któremu uczysz się tego w Python, co jest kluczowe w kontekście analizy danych i \"data science\". \n",
    "\n",
    "Masz pytania na temat tego kursu? \n",
    "\n",
    "👉 Pisz śmiało na adres: ela@dataworkshop.eu lub hello@dataworkshop.eu \n"
   ]
  },
  {
   "cell_type": "code",
   "execution_count": null,
   "metadata": {},
   "outputs": [],
   "source": []
  }
 ],
 "metadata": {
  "kernelspec": {
   "display_name": "Python 3",
   "language": "python",
   "name": "python3"
  },
  "language_info": {
   "codemirror_mode": {
    "name": "ipython",
    "version": 3
   },
   "file_extension": ".py",
   "mimetype": "text/x-python",
   "name": "python",
   "nbconvert_exporter": "python",
   "pygments_lexer": "ipython3",
   "version": "3.8.6"
  }
 },
 "nbformat": 4,
 "nbformat_minor": 4
}
